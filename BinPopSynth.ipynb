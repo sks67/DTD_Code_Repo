{
 "cells": [
  {
   "cell_type": "code",
   "execution_count": 1,
   "metadata": {
    "collapsed": false
   },
   "outputs": [
    {
     "name": "stdout",
     "output_type": "stream",
     "text": [
      "Populating the interactive namespace from numpy and matplotlib\n"
     ]
    }
   ],
   "source": [
    "%pylab inline\n",
    "from astropy.io import ascii"
   ]
  },
  {
   "cell_type": "code",
   "execution_count": 20,
   "metadata": {
    "collapsed": true
   },
   "outputs": [],
   "source": [
    "data = ascii.read('beptable.txt')"
   ]
  },
  {
   "cell_type": "code",
   "execution_count": 21,
   "metadata": {
    "collapsed": false
   },
   "outputs": [
    {
     "name": "stdout",
     "output_type": "stream",
     "text": [
      "80936.328\n"
     ]
    }
   ],
   "source": [
    "print np.sum(data['M_BEP_ZAMS']) + np.sum(data['M_com_ZAMS'])"
   ]
  },
  {
   "cell_type": "code",
   "execution_count": 3,
   "metadata": {
    "collapsed": false
   },
   "outputs": [],
   "source": [
    "t_IS = data['t_ent_IS']\n",
    "core_type = data['typ_BEP_IS']\n",
    "wh_postrgb = np.where(core_type==3)\n",
    "t_postrgb_IS = t_IS[wh_postrgb]\n",
    "wh_cheb = np.where(core_type==4)\n",
    "t_cheb_IS = t_IS[wh_cheb]\n",
    "wh_postagb = np.where(core_type==5)\n",
    "t_postagb_IS = t_IS[wh_postagb]"
   ]
  },
  {
   "cell_type": "code",
   "execution_count": 19,
   "metadata": {
    "collapsed": false
   },
   "outputs": [
    {
     "data": {
      "image/png": "[encoded data removed]",
      "text/plain": [
       "<matplotlib.figure.Figure at 0x10dcf2050>"
      ]
     },
     "metadata": {},
     "output_type": "display_data"
    }
   ],
   "source": [
    "bins = np.logspace(0, 5, 30)\n",
    "plt.rc('font', family='serif')\n",
    "with plt.style.context(('bmh')):\n",
    "    plt.hist(t_postrgb_IS, bins=bins, label='Post RGB', color='#348ABD', alpha=0.8, lw=2.0)\n",
    "    plt.hist(t_cheb_IS, bins=bins, label='Core HeB', color='#A60628', alpha=0.8, lw=2.0)\n",
    "    plt.hist(t_postagb_IS, bins=bins, label='Core HeB', color='#A60628', alpha=0.8, lw=2.0)\n",
    "    plt.xscale('log')\n",
    "    plt.yscale('log')\n",
    "plt.legend(loc=2)\n",
    "plt.xlim(5,22000)\n",
    "plt.show()"
   ]
  },
  {
   "cell_type": "code",
   "execution_count": 7,
   "metadata": {
    "collapsed": false
   },
   "outputs": [
    {
     "data": {
      "text/plain": [
       "0.875"
      ]
     },
     "execution_count": 7,
     "metadata": {},
     "output_type": "execute_result"
    }
   ],
   "source": [
    "np.min(data['M_BEP_ZAMS'])"
   ]
  },
  {
   "cell_type": "code",
   "execution_count": 31,
   "metadata": {
    "collapsed": false
   },
   "outputs": [
    {
     "data": {
      "text/plain": [
       "87.299999999999997"
      ]
     },
     "execution_count": 31,
     "metadata": {},
     "output_type": "execute_result"
    }
   ],
   "source": [
    "t_IS[6547]"
   ]
  },
  {
   "cell_type": "code",
   "execution_count": null,
   "metadata": {
    "collapsed": true
   },
   "outputs": [],
   "source": []
  }
 ],
 "metadata": {
  "anaconda-cloud": {},
  "kernelspec": {
   "display_name": "Python [default]",
   "language": "python",
   "name": "python2"
  },
  "language_info": {
   "codemirror_mode": {
    "name": "ipython",
    "version": 2
   },
   "file_extension": ".py",
   "mimetype": "text/x-python",
   "name": "python",
   "nbconvert_exporter": "python",
   "pygments_lexer": "ipython2",
   "version": "2.7.12"
  }
 },
 "nbformat": 4,
 "nbformat_minor": 1
}
