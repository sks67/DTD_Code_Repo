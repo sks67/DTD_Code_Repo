{
 "cells": [
  {
   "cell_type": "code",
   "execution_count": 1,
   "metadata": {
    "collapsed": false
   },
   "outputs": [
    {
     "name": "stdout",
     "output_type": "stream",
     "text": [
      "Populating the interactive namespace from numpy and matplotlib\n"
     ]
    }
   ],
   "source": [
    "%pylab inline\n",
    "from scipy import integrate\n",
    "from astropy.io import ascii\n",
    "import dtdutils"
   ]
  },
  {
   "cell_type": "code",
   "execution_count": 4,
   "metadata": {
    "collapsed": false
   },
   "outputs": [
    {
     "data": {
      "text/html": [
       "&lt;Table length=16&gt;\n",
       "<table id=\"table4575971344\" class=\"table-striped table-bordered table-condensed\">\n",
       "<thead><tr><th>bestfit</th><th>plotpoint</th><th>1sigma_low</th><th>1sigma_up</th><th>2sigma</th><th>isuplim</th></tr></thead>\n",
       "<thead><tr><th>float64</th><th>float64</th><th>float64</th><th>float64</th><th>float64</th><th>str5</th></tr></thead>\n",
       "<tr><td>1.32349081783e-06</td><td>9.98427301759e-05</td><td>1.32248753402e-06</td><td>4.14245522491e-05</td><td>9.85192393581e-05</td><td>True</td></tr>\n",
       "<tr><td>6.03995078381e-07</td><td>2.7720594238e-05</td><td>6.03994800506e-07</td><td>9.9269229233e-06</td><td>2.71165991597e-05</td><td>True</td></tr>\n",
       "<tr><td>6.80436430931e-07</td><td>4.0648558326e-05</td><td>6.80400112894e-07</td><td>1.44388596409e-05</td><td>3.99681218951e-05</td><td>True</td></tr>\n",
       "<tr><td>2.22640411122e-07</td><td>1.02507263833e-05</td><td>2.22601815816e-07</td><td>3.61712220338e-06</td><td>1.00280859722e-05</td><td>True</td></tr>\n",
       "<tr><td>1.12463226589e-07</td><td>5.00249610666e-06</td><td>1.12203857954e-07</td><td>1.75469467413e-06</td><td>4.89003288007e-06</td><td>True</td></tr>\n",
       "<tr><td>5.37576892202e-07</td><td>3.54516648973e-05</td><td>5.37559297143e-07</td><td>1.05223122371e-05</td><td>3.49140880051e-05</td><td>True</td></tr>\n",
       "<tr><td>3.58251392247e-07</td><td>1.35237731755e-05</td><td>3.58249057419e-07</td><td>4.19265538848e-06</td><td>1.31655217832e-05</td><td>True</td></tr>\n",
       "<tr><td>3.65165461881e-07</td><td>2.76616524582e-05</td><td>3.65151936695e-07</td><td>1.05438522879e-05</td><td>2.72964869963e-05</td><td>True</td></tr>\n",
       "<tr><td>2.00145950613e-07</td><td>1.47518064789e-05</td><td>2.00122004229e-07</td><td>6.0739263502e-06</td><td>1.45516605283e-05</td><td>True</td></tr>\n",
       "<tr><td>2.11756041805e-07</td><td>2.11207037907e-05</td><td>2.1119502462e-07</td><td>1.13121965788e-05</td><td>2.09089477489e-05</td><td>True</td></tr>\n",
       "<tr><td>1.14880145997e-05</td><td>1.14880145997e-05</td><td>1.8556682176e-06</td><td>2.59130180625e-06</td><td>4.89703604778e-06</td><td>False</td></tr>\n",
       "<tr><td>1.96870765566e-05</td><td>1.96870765566e-05</td><td>1.00862241333e-06</td><td>1.32786681443e-06</td><td>2.50741556803e-06</td><td>False</td></tr>\n",
       "<tr><td>1.74653235114e-05</td><td>1.74653235114e-05</td><td>2.88798764428e-06</td><td>2.12098908035e-06</td><td>4.58447702303e-06</td><td>False</td></tr>\n",
       "<tr><td>2.11278459214e-05</td><td>2.11278459214e-05</td><td>2.0596287339e-06</td><td>2.16891185317e-06</td><td>4.37989812527e-06</td><td>False</td></tr>\n",
       "<tr><td>9.90303426522e-06</td><td>9.90303426522e-06</td><td>2.02154869094e-06</td><td>1.73586951743e-06</td><td>3.72059381683e-06</td><td>False</td></tr>\n",
       "<tr><td>1.04358227193e-05</td><td>1.04358227193e-05</td><td>8.39876555764e-07</td><td>6.56149710848e-07</td><td>1.28865929587e-06</td><td>False</td></tr>\n",
       "</table>"
      ],
      "text/plain": [
       "<Table length=16>\n",
       "     bestfit          plotpoint     ...       2sigma      isuplim\n",
       "     float64           float64      ...      float64        str5 \n",
       "----------------- ----------------- ... ----------------- -------\n",
       "1.32349081783e-06 9.98427301759e-05 ... 9.85192393581e-05    True\n",
       "6.03995078381e-07  2.7720594238e-05 ... 2.71165991597e-05    True\n",
       "6.80436430931e-07  4.0648558326e-05 ... 3.99681218951e-05    True\n",
       "2.22640411122e-07 1.02507263833e-05 ... 1.00280859722e-05    True\n",
       "1.12463226589e-07 5.00249610666e-06 ... 4.89003288007e-06    True\n",
       "5.37576892202e-07 3.54516648973e-05 ... 3.49140880051e-05    True\n",
       "3.58251392247e-07 1.35237731755e-05 ... 1.31655217832e-05    True\n",
       "3.65165461881e-07 2.76616524582e-05 ... 2.72964869963e-05    True\n",
       "2.00145950613e-07 1.47518064789e-05 ... 1.45516605283e-05    True\n",
       "2.11756041805e-07 2.11207037907e-05 ... 2.09089477489e-05    True\n",
       "1.14880145997e-05 1.14880145997e-05 ... 4.89703604778e-06   False\n",
       "1.96870765566e-05 1.96870765566e-05 ... 2.50741556803e-06   False\n",
       "1.74653235114e-05 1.74653235114e-05 ... 4.58447702303e-06   False\n",
       "2.11278459214e-05 2.11278459214e-05 ... 4.37989812527e-06   False\n",
       "9.90303426522e-06 9.90303426522e-06 ... 3.72059381683e-06   False\n",
       "1.04358227193e-05 1.04358227193e-05 ... 1.28865929587e-06   False"
      ]
     },
     "execution_count": 4,
     "metadata": {},
     "output_type": "execute_result"
    }
   ],
   "source": [
    "dtdTable = ascii.read('DTD_Error_Table.txt')\n",
    "dtdTable"
   ]
  },
  {
   "cell_type": "code",
   "execution_count": 16,
   "metadata": {
    "collapsed": false
   },
   "outputs": [
    {
     "name": "stdout",
     "output_type": "stream",
     "text": [
      "Visibility time (Myr) for detected bins:  [  717836.743  1614217.069  1879132.223  2982880.99   1834632.096\n",
      "  2536923.656]\n",
      "Error low (Myr) for detected bins:  [ 115952.745   82700.726  310724.885  290783.425  374511.287  204171.991]\n",
      "Error up (Myr) for detected bins:  [ 161919.332  108876.769  228201.838  306212.283  321586.48   159508.432]\n"
     ]
    }
   ],
   "source": [
    "dtdTable = ascii.read('DTD_Error_Table.txt')\n",
    "ages, ages_l, ages_u = dtdutils.sfh_ageBins('Unbinned')\n",
    "\n",
    "#Really annoying extra step you have to do, since the boolean list from dtdutils was saved as a string Column. \n",
    "#May have to store as 0s and 1s later.\n",
    "idx_detect = np.where(dtdTable['isuplim'].data == 'False')[0]\n",
    "ages_detect = ages[idx_detect]\n",
    "ages_l_detect = ages_l[idx_detect]\n",
    "ages_u_detect = ages_u[idx_detect]\n",
    "bestfit_detect = dtdTable['bestfit'].data[idx_detect]\n",
    "err_1siglow_detect =  dtdTable['1sigma_low'].data[idx_detect]\n",
    "err_1sigup_detect =  dtdTable['1sigma_up'].data[idx_detect]\n",
    "\n",
    "psi = lambda t: 0.021*((t/1.0e9)**(-0.59))\n",
    "np.set_printoptions(precision=3)\n",
    "print 'Visibility time (Myr) for detected bins: ', 1.0e9*(bestfit_detect/psi(ages_detect))\n",
    "print 'Error low (Myr) for detected bins: ', 1.0e9*(err_1siglow_detect/psi(ages_detect))\n",
    "print 'Error up (Myr) for detected bins: ', 1.0e9*(err_1sigup_detect/psi(ages_detect))"
   ]
  },
  {
   "cell_type": "code",
   "execution_count": 15,
   "metadata": {
    "collapsed": false
   },
   "outputs": [
    {
     "data": {
      "text/plain": [
       "array([  8.913e+06,   1.778e+07,   3.548e+07,   7.079e+07,   1.259e+08,\n",
       "         1.995e+08,   3.162e+08,   5.012e+08,   7.943e+08,   1.259e+09,\n",
       "         1.995e+09,   3.162e+09,   5.012e+09,   7.943e+09,   1.259e+10,\n",
       "         1.995e+10])"
      ]
     },
     "execution_count": 15,
     "metadata": {},
     "output_type": "execute_result"
    }
   ],
   "source": [
    "ages_u"
   ]
  },
  {
   "cell_type": "code",
   "execution_count": null,
   "metadata": {
    "collapsed": true
   },
   "outputs": [],
   "source": []
  }
 ],
 "metadata": {
  "anaconda-cloud": {},
  "kernelspec": {
   "display_name": "Python [default]",
   "language": "python",
   "name": "python2"
  },
  "language_info": {
   "codemirror_mode": {
    "name": "ipython",
    "version": 2
   },
   "file_extension": ".py",
   "mimetype": "text/x-python",
   "name": "python",
   "nbconvert_exporter": "python",
   "pygments_lexer": "ipython2",
   "version": "2.7.12"
  }
 },
 "nbformat": 4,
 "nbformat_minor": 1
}
