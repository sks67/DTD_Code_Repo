{
 "cells": [
  {
   "cell_type": "code",
   "execution_count": 6,
   "metadata": {
    "collapsed": false
   },
   "outputs": [
    {
     "name": "stdout",
     "output_type": "stream",
     "text": [
      "Populating the interactive namespace from numpy and matplotlib\n"
     ]
    }
   ],
   "source": [
    "%pylab inline\n",
    "from scipy import integrate\n",
    "from astropy.io import ascii\n",
    "import dtdutils"
   ]
  },
  {
   "cell_type": "code",
   "execution_count": 8,
   "metadata": {
    "collapsed": false
   },
   "outputs": [
    {
     "data": {
      "text/html": [
       "&lt;Table length=16&gt;\n",
       "<table id=\"table4576582224\" class=\"table-striped table-bordered table-condensed\">\n",
       "<thead><tr><th>bestfit</th><th>plotpoint</th><th>1sigma_low</th><th>1sigma_up</th><th>2sigma</th><th>detection?</th><th>det_sig</th></tr></thead>\n",
       "<thead><tr><th>float64</th><th>float64</th><th>float64</th><th>float64</th><th>float64</th><th>str5</th><th>float64</th></tr></thead>\n",
       "<tr><td>1.21464138415e-06</td><td>9.82151347221e-05</td><td>1.21454287489e-06</td><td>3.99588430772e-05</td><td>9.70004933379e-05</td><td>True</td><td>0.0250440248777</td></tr>\n",
       "<tr><td>5.62228763367e-07</td><td>2.70256134848e-05</td><td>5.62123882514e-07</td><td>9.53096311088e-06</td><td>2.64633847214e-05</td><td>True</td><td>0.042491069777</td></tr>\n",
       "<tr><td>7.38049216039e-07</td><td>4.36355007009e-05</td><td>7.37925689243e-07</td><td>1.46214722912e-05</td><td>4.28974514848e-05</td><td>True</td><td>0.0344099330143</td></tr>\n",
       "<tr><td>2.20971848791e-07</td><td>1.00508485812e-05</td><td>2.20941741348e-07</td><td>3.56514591524e-06</td><td>9.82987673237e-06</td><td>True</td><td>0.044959230885</td></tr>\n",
       "<tr><td>1.28349794848e-07</td><td>5.00226353201e-06</td><td>1.28346173465e-07</td><td>1.71828015239e-06</td><td>4.87391373716e-06</td><td>True</td><td>0.0526680617546</td></tr>\n",
       "<tr><td>7.16264783395e-07</td><td>2.82596384607e-05</td><td>7.16157147175e-07</td><td>7.97411045808e-06</td><td>2.75433736773e-05</td><td>True</td><td>0.0520099528683</td></tr>\n",
       "<tr><td>3.64458386122e-07</td><td>1.33479015979e-05</td><td>3.64429614549e-07</td><td>3.87984473486e-06</td><td>1.29834432118e-05</td><td>True</td><td>0.0561420233717</td></tr>\n",
       "<tr><td>2.65711047448e-07</td><td>2.35933281692e-05</td><td>2.65698118593e-07</td><td>9.0932168713e-06</td><td>2.33276171217e-05</td><td>True</td><td>0.0227808134934</td></tr>\n",
       "<tr><td>1.48204447031e-07</td><td>1.37081375217e-05</td><td>1.48138582686e-07</td><td>5.77126841636e-06</td><td>1.35599330747e-05</td><td>True</td><td>0.0218591708698</td></tr>\n",
       "<tr><td>2.41202751068e-07</td><td>2.0608989315e-05</td><td>2.411017505e-07</td><td>8.93102805609e-06</td><td>2.0367786564e-05</td><td>True</td><td>0.0236847288547</td></tr>\n",
       "<tr><td>1.254886938e-05</td><td>1.254886938e-05</td><td>2.37147937985e-06</td><td>2.00317677057e-06</td><td>3.83206322243e-06</td><td>False</td><td>6.54940623452</td></tr>\n",
       "<tr><td>1.94268231481e-05</td><td>1.94268231481e-05</td><td>1.15121391039e-06</td><td>1.31629153202e-06</td><td>2.78571836183e-06</td><td>False</td><td>13.9474423648</td></tr>\n",
       "<tr><td>1.66997258382e-05</td><td>1.66997258382e-05</td><td>2.15846734454e-06</td><td>2.33028280567e-06</td><td>4.66235056871e-06</td><td>False</td><td>7.16365086325</td></tr>\n",
       "<tr><td>2.11958611634e-05</td><td>2.11958611634e-05</td><td>2.20464248854e-06</td><td>2.09756123143e-06</td><td>4.66310503249e-06</td><td>False</td><td>9.09087872382</td></tr>\n",
       "<tr><td>9.05524334444e-06</td><td>9.05524334444e-06</td><td>1.81587066657e-06</td><td>1.68353376129e-06</td><td>3.8137158198e-06</td><td>False</td><td>4.7487771886</td></tr>\n",
       "<tr><td>1.03176755781e-05</td><td>1.03176755781e-05</td><td>5.69373011336e-07</td><td>8.02754910344e-07</td><td>1.35227534182e-06</td><td>False</td><td>15.2597259729</td></tr>\n",
       "</table>"
      ],
      "text/plain": [
       "<Table length=16>\n",
       "     bestfit          plotpoint     ... detection?     det_sig    \n",
       "     float64           float64      ...    str5        float64    \n",
       "----------------- ----------------- ... ---------- ---------------\n",
       "1.21464138415e-06 9.82151347221e-05 ...       True 0.0250440248777\n",
       "5.62228763367e-07 2.70256134848e-05 ...       True  0.042491069777\n",
       "7.38049216039e-07 4.36355007009e-05 ...       True 0.0344099330143\n",
       "2.20971848791e-07 1.00508485812e-05 ...       True  0.044959230885\n",
       "1.28349794848e-07 5.00226353201e-06 ...       True 0.0526680617546\n",
       "7.16264783395e-07 2.82596384607e-05 ...       True 0.0520099528683\n",
       "3.64458386122e-07 1.33479015979e-05 ...       True 0.0561420233717\n",
       "2.65711047448e-07 2.35933281692e-05 ...       True 0.0227808134934\n",
       "1.48204447031e-07 1.37081375217e-05 ...       True 0.0218591708698\n",
       "2.41202751068e-07  2.0608989315e-05 ...       True 0.0236847288547\n",
       "  1.254886938e-05   1.254886938e-05 ...      False   6.54940623452\n",
       "1.94268231481e-05 1.94268231481e-05 ...      False   13.9474423648\n",
       "1.66997258382e-05 1.66997258382e-05 ...      False   7.16365086325\n",
       "2.11958611634e-05 2.11958611634e-05 ...      False   9.09087872382\n",
       "9.05524334444e-06 9.05524334444e-06 ...      False    4.7487771886\n",
       "1.03176755781e-05 1.03176755781e-05 ...      False   15.2597259729"
      ]
     },
     "execution_count": 8,
     "metadata": {},
     "output_type": "execute_result"
    }
   ],
   "source": [
    "dtdTable = ascii.read('DTD_Error_Table.txt')\n",
    "dtdTable"
   ]
  },
  {
   "cell_type": "code",
   "execution_count": 24,
   "metadata": {
    "collapsed": false
   },
   "outputs": [
    {
     "name": "stdout",
     "output_type": "stream",
     "text": [
      "Visibility time (Myr) for detected bins:  [ 0.784  1.593  1.797  2.992  1.678  2.508]\n",
      "Error low (Myr) for detected bins:  [ 0.148  0.094  0.232  0.311  0.336  0.138]\n",
      "Error up (Myr) for detected bins:  [ 0.125  0.108  0.251  0.296  0.312  0.195]\n"
     ]
    }
   ],
   "source": [
    "dtdTable = ascii.read('DTD_Error_Table.txt')\n",
    "ages, ages_l, ages_u = dtdutils.sfh_ageBins('Unbinned')\n",
    "\n",
    "#Really annoying extra step you have to do, since the boolean list from dtdutils was saved as a string Column. \n",
    "#May have to store as 0s and 1s later.\n",
    "idx_detect = np.where(dtdTable['detection?'].data == 'False')[0]\n",
    "ages_detect = ages[idx_detect]\n",
    "ages_l_detect = ages_l[idx_detect]\n",
    "ages_u_detect = ages_u[idx_detect]\n",
    "bestfit_detect = dtdTable['bestfit'].data[idx_detect]\n",
    "err_1siglow_detect =  dtdTable['1sigma_low'].data[idx_detect]\n",
    "err_1sigup_detect =  dtdTable['1sigma_up'].data[idx_detect]\n",
    "\n",
    "psi = lambda t: 0.021*((t/1.0e9)**(-0.59))\n",
    "np.set_printoptions(precision=3)\n",
    "print 'Visibility time (Myr) for detected bins: ', 1.0e3*(bestfit_detect/psi(ages_detect))\n",
    "print 'Error low (Myr) for detected bins: ', 1.0e3*(err_1siglow_detect/psi(ages_detect))\n",
    "print 'Error up (Myr) for detected bins: ', 1.0e3*(err_1sigup_detect/psi(ages_detect))"
   ]
  },
  {
   "cell_type": "code",
   "execution_count": 21,
   "metadata": {
    "collapsed": false
   },
   "outputs": [
    {
     "data": {
      "text/plain": [
       "array([  6.310e+06,   1.259e+07,   2.512e+07,   5.012e+07,   9.441e+07,\n",
       "         1.585e+08,   2.512e+08,   3.981e+08,   6.310e+08,   1.000e+09,\n",
       "         1.585e+09,   2.512e+09,   3.981e+09,   6.310e+09,   1.000e+10,\n",
       "         1.585e+10])"
      ]
     },
     "execution_count": 21,
     "metadata": {},
     "output_type": "execute_result"
    }
   ],
   "source": [
    "ages"
   ]
  },
  {
   "cell_type": "code",
   "execution_count": 5,
   "metadata": {
    "collapsed": false
   },
   "outputs": [
    {
     "name": "stdout",
     "output_type": "stream",
     "text": [
      "True\n"
     ]
    }
   ],
   "source": []
  },
  {
   "cell_type": "code",
   "execution_count": null,
   "metadata": {
    "collapsed": true
   },
   "outputs": [],
   "source": []
  }
 ],
 "metadata": {
  "anaconda-cloud": {},
  "kernelspec": {
   "display_name": "Python [default]",
   "language": "python",
   "name": "python2"
  },
  "language_info": {
   "codemirror_mode": {
    "name": "ipython",
    "version": 2
   },
   "file_extension": ".py",
   "mimetype": "text/x-python",
   "name": "python",
   "nbconvert_exporter": "python",
   "pygments_lexer": "ipython2",
   "version": "2.7.12"
  }
 },
 "nbformat": 4,
 "nbformat_minor": 1
}
