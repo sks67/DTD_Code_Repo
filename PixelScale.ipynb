{
 "metadata": {
  "name": ""
 },
 "nbformat": 3,
 "nbformat_minor": 0,
 "worksheets": [
  {
   "cells": [
    {
     "cell_type": "code",
     "collapsed": false,
     "input": [
      "%pylab inline"
     ],
     "language": "python",
     "metadata": {},
     "outputs": [
      {
       "output_type": "stream",
       "stream": "stdout",
       "text": [
        "Populating the interactive namespace from numpy and matplotlib\n"
       ]
      }
     ],
     "prompt_number": 1
    },
    {
     "cell_type": "markdown",
     "metadata": {},
     "source": [
      "The task is to calculate the solid angle subtended by the image in square degrees, from the RA and Dec. I'm trying to see if the pixel_scale technique used in APLPy can be implemented with Astropy."
     ]
    },
    {
     "cell_type": "code",
     "collapsed": false,
     "input": [
      "from astropy.io import fits\n",
      "from astropy import wcs"
     ],
     "language": "python",
     "metadata": {},
     "outputs": [],
     "prompt_number": 5
    },
    {
     "cell_type": "code",
     "collapsed": false,
     "input": [
      "hdulist = fits.open('LMC60.M0NHC.FITS')\n",
      "w = wcs.WCS(hdulist[0].header)\n",
      "print wcs.utils.proj_plane_pixel_scales(w)"
     ],
     "language": "python",
     "metadata": {},
     "outputs": [
      {
       "output_type": "stream",
       "stream": "stdout",
       "text": [
        "[ 0.00555556  0.00555556]\n"
       ]
      }
     ],
     "prompt_number": 15
    },
    {
     "cell_type": "code",
     "collapsed": false,
     "input": [
      "\n"
     ],
     "language": "python",
     "metadata": {},
     "outputs": [
      {
       "output_type": "stream",
       "stream": "stdout",
       "text": [
        "WCS Keywords\n",
        "\n",
        "Number of WCS axes: 2\n",
        "CTYPE : 'RA---SIN'  'DEC--SIN'  \n",
        "CRVAL : 80.894583361399995  -69.739444601299994  \n",
        "CRPIX : 927.0  987.0  \n",
        "PC1_1 PC1_2  : 1.0  0.0  \n",
        "PC2_1 PC2_2  : 0.0  1.0  \n",
        "CDELT : -0.0055555561652000001  0.0055555561652000001  \n",
        "NAXIS : 1997  2230\n"
       ]
      }
     ],
     "prompt_number": 8
    },
    {
     "cell_type": "code",
     "collapsed": false,
     "input": [],
     "language": "python",
     "metadata": {},
     "outputs": []
    }
   ],
   "metadata": {}
  }
 ]
}