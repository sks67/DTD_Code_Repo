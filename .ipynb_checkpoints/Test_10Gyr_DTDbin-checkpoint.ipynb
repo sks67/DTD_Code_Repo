{
 "cells": [
  {
   "cell_type": "markdown",
   "metadata": {},
   "source": [
    "### Using the DTD recovery test for RR Lyrae that Carles suggested"
   ]
  },
  {
   "cell_type": "code",
   "execution_count": 1,
   "metadata": {
    "collapsed": false
   },
   "outputs": [
    {
     "name": "stdout",
     "output_type": "stream",
     "text": [
      "Populating the interactive namespace from numpy and matplotlib\n"
     ]
    }
   ],
   "source": [
    "%pylab inline\n",
    "from astropy.io import ascii\n",
    "import os\n",
    "DTD_path = os.getenv('DTD')+'/'\n",
    "sad_files_path = DTD_path + 'Output_SFH_Files/'"
   ]
  },
  {
   "cell_type": "code",
   "execution_count": 71,
   "metadata": {
    "collapsed": false
   },
   "outputs": [
    {
     "ename": "ValueError",
     "evalue": "shapes (0,) and (16,) not aligned: 0 (dim 0) != 16 (dim 0)",
     "output_type": "error",
     "traceback": [
      "\u001b[0;31m---------------------------------------------------------------------------\u001b[0m",
      "\u001b[0;31mValueError\u001b[0m                                Traceback (most recent call last)",
      "\u001b[0;32m<ipython-input-71-c826ccf60125>\u001b[0m in \u001b[0;36m<module>\u001b[0;34m()\u001b[0m\n\u001b[1;32m     15\u001b[0m \u001b[0;31m#up the full file string, and map(float,...) converts all the SAD entries into numbers!\u001b[0m\u001b[0;34m\u001b[0m\u001b[0;34m\u001b[0m\u001b[0m\n\u001b[1;32m     16\u001b[0m \u001b[0mdtd_old\u001b[0m \u001b[0;34m=\u001b[0m \u001b[0mnp\u001b[0m\u001b[0;34m.\u001b[0m\u001b[0mconcatenate\u001b[0m\u001b[0;34m(\u001b[0m\u001b[0;34m(\u001b[0m\u001b[0;34m[\u001b[0m\u001b[0;36m0.\u001b[0m\u001b[0;34m]\u001b[0m\u001b[0;34m*\u001b[0m\u001b[0;36m14\u001b[0m\u001b[0;34m,\u001b[0m \u001b[0;34m[\u001b[0m\u001b[0;36m1.0e-5\u001b[0m\u001b[0;34m]\u001b[0m\u001b[0;34m*\u001b[0m\u001b[0;36m2\u001b[0m\u001b[0;34m)\u001b[0m\u001b[0;34m)\u001b[0m\u001b[0;34m\u001b[0m\u001b[0m\n\u001b[0;32m---> 17\u001b[0;31m \u001b[0mlambda_i\u001b[0m \u001b[0;34m=\u001b[0m \u001b[0mnp\u001b[0m\u001b[0;34m.\u001b[0m\u001b[0mdot\u001b[0m\u001b[0;34m(\u001b[0m\u001b[0msad_file_rows\u001b[0m\u001b[0;34m,\u001b[0m \u001b[0mdtd_old\u001b[0m\u001b[0;34m)\u001b[0m\u001b[0;34m\u001b[0m\u001b[0m\n\u001b[0m\u001b[1;32m     18\u001b[0m \u001b[0;32mprint\u001b[0m \u001b[0;36m100.\u001b[0m\u001b[0;34m*\u001b[0m\u001b[0mnp\u001b[0m\u001b[0;34m.\u001b[0m\u001b[0msum\u001b[0m\u001b[0;34m(\u001b[0m\u001b[0mlambda_i\u001b[0m\u001b[0;34m)\u001b[0m\u001b[0;34m/\u001b[0m\u001b[0;36m23459.\u001b[0m  \u001b[0;31m#Check if the fraction of old objects produced is consistent.\u001b[0m\u001b[0;34m\u001b[0m\u001b[0m\n\u001b[1;32m     19\u001b[0m \u001b[0mk_i\u001b[0m \u001b[0;34m=\u001b[0m \u001b[0mnp\u001b[0m\u001b[0;34m.\u001b[0m\u001b[0mrandom\u001b[0m\u001b[0;34m.\u001b[0m\u001b[0mpoisson\u001b[0m\u001b[0;34m(\u001b[0m\u001b[0mlam\u001b[0m\u001b[0;34m=\u001b[0m\u001b[0mlambda_i\u001b[0m\u001b[0;34m)\u001b[0m\u001b[0;34m\u001b[0m\u001b[0m\n",
      "\u001b[0;31mValueError\u001b[0m: shapes (0,) and (16,) not aligned: 0 (dim 0) != 16 (dim 0)"
     ]
    }
   ],
   "source": [
    "object_Name = 'RRLyrae'\n",
    "object_Subtype = 'All'\n",
    "binning_type = 'Unbinned'\n",
    "\n",
    "sad_file_name = sad_files_path + 'LMC_SFH_Cells_' + object_Name + object_Subtype + '_' + binning_type + '.dat'\n",
    "\n",
    "#Open file containing stellar masses for a given binning strategy, and only use the \n",
    "#rows with best-fit stellar masses. \n",
    "sad_file = open(sad_file_name, 'r')\n",
    "sad_cellnames = np.array([lines.split()[0] for lines in sad_file if len(lines.split())==18])\n",
    "sad_file_rows = np.array([map(float, lines.split()[2:]) for lines in sad_file if len(lines.split())==18])\n",
    "\n",
    "#Lots of things happening here. I'm reading each line of the file with the for statement, picking only lines that have\n",
    "#best fit stellar mass (i.e. with 18 entries, 1st two being cell name and number of objects in cell). The split() splits\n",
    "#up the full file string, and map(float,...) converts all the SAD entries into numbers!\n",
    "dtd_old = np.concatenate(([0.]*14, [1.0e-5]*2))\n",
    "lambda_i = np.dot(sad_file_rows, dtd_old)\n",
    "print 100.*np.sum(lambda_i)/23459.  #Check if the fraction of old objects produced is consistent.\n",
    "k_i = np.random.poisson(lam=lambda_i)\n",
    "print k_i\n",
    "sad_file.close()"
   ]
  },
  {
   "cell_type": "code",
   "execution_count": 12,
   "metadata": {
    "collapsed": false
   },
   "outputs": [
    {
     "data": {
      "image/png": "[encoded data removed]",
      "text/plain": [
       "<matplotlib.figure.Figure at 0x10c1ae310>"
      ]
     },
     "metadata": {},
     "output_type": "display_data"
    }
   ],
   "source": [
    "mu = 2\n",
    "sigma = 5\n",
    "k = np.random.poisson(mu, size=10000)\n",
    "kg = np.random.normal(loc=mu, scale=sigma, size=10000)\n",
    "bins = np.linspace(mu-5.0*sigma, mu+5.0*sigma, 50)\n",
    "plt.hist(k, bins=bins)\n",
    "plt.hist(kg, bins=bins, alpha=0.7)\n",
    "plt.xlim(mu-5.0*sigma, mu+5.0*sigma)\n",
    "plt.show()"
   ]
  },
  {
   "cell_type": "code",
   "execution_count": 73,
   "metadata": {
    "collapsed": false
   },
   "outputs": [],
   "source": [
    "sad_file = open(sad_file_name, 'r')\n",
    "sad_file_rows = sad_file.readlines()"
   ]
  },
  {
   "cell_type": "code",
   "execution_count": 76,
   "metadata": {
    "collapsed": false
   },
   "outputs": [
    {
     "data": {
      "text/plain": [
       "2424"
      ]
     },
     "execution_count": 76,
     "metadata": {},
     "output_type": "execute_result"
    }
   ],
   "source": [
    "len( sad_file_rows)"
   ]
  },
  {
   "cell_type": "code",
   "execution_count": null,
   "metadata": {
    "collapsed": true
   },
   "outputs": [],
   "source": []
  }
 ],
 "metadata": {
  "anaconda-cloud": {},
  "kernelspec": {
   "display_name": "Python [default]",
   "language": "python",
   "name": "python2"
  },
  "language_info": {
   "codemirror_mode": {
    "name": "ipython",
    "version": 2
   },
   "file_extension": ".py",
   "mimetype": "text/x-python",
   "name": "python",
   "nbconvert_exporter": "python",
   "pygments_lexer": "ipython2",
   "version": "2.7.12"
  }
 },
 "nbformat": 4,
 "nbformat_minor": 1
}
