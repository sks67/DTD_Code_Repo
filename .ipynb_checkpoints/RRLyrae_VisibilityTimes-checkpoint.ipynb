{
 "cells": [
  {
   "cell_type": "code",
   "execution_count": 1,
   "metadata": {
    "collapsed": false
   },
   "outputs": [
    {
     "name": "stdout",
     "output_type": "stream",
     "text": [
      "Populating the interactive namespace from numpy and matplotlib\n"
     ]
    }
   ],
   "source": [
    "%pylab inline\n",
    "from scipy import integrate"
   ]
  },
  {
   "cell_type": "markdown",
   "metadata": {},
   "source": [
    "# Can you reproduce the Badenes 2015 visibility times?"
   ]
  },
  {
   "cell_type": "code",
   "execution_count": 113,
   "metadata": {
    "collapsed": false
   },
   "outputs": [
    {
     "name": "stdout",
     "output_type": "stream",
     "text": [
      "Visibility time (kyr) (assume t in units of Gyr)\n",
      "\n",
      "  [ 39.65488996  30.75702936  27.85400214  16.98243652  81.76018065\n",
      "  16.06636393]\n",
      "\n",
      "\n",
      "Visibility time (kyr) (assume t in units of 10 Gyr)\n",
      "\n",
      "  [ 13.74981165  10.66459549   9.65800898   5.88843655  28.34926753\n",
      "   5.57080043]\n"
     ]
    }
   ],
   "source": [
    "t1 = np.array([5., 35., 800., 2000., 5000., 8000., 20000.])*1.0e6\n",
    "logAgeCenters = np.log10(t1[:-1])+(0.5*(np.log10(t1[1:]) - np.log10(t1[:-1])))\n",
    "ageCenters = (10.0**logAgeCenters)*1.0e-9\n",
    "\n",
    "psi_Tvis = np.array([5.8, 1.4, 0.5, 0.2, 0.7, 0.1])\n",
    "norm = 1.0e6\n",
    "psi = lambda t: 0.020*((t)**(-0.46)) #t is in Gyrs\n",
    "psi_2 = lambda t: 0.020*((t/10.)**(-0.46)) #t is in 10 Gyrs\n",
    "\n",
    "print 'Visibility time (kyr) (assume t in units of Gyr)\\n\\n ', 1.0e6*((psi_Tvis/norm)/psi(ageCenters))\n",
    "print '\\n\\nVisibility time (kyr) (assume t in units of 10 Gyr)\\n\\n ', 1.0e6*((psi_Tvis/norm)/psi_2(ageCenters))"
   ]
  },
  {
   "cell_type": "markdown",
   "metadata": {},
   "source": [
    "**Nope, but if you assume $t$ is in units of 10 Gyrs, you can! WTF.** P.S. the 10 Gyr number is from Carlos' code, which I didn't understand well."
   ]
  },
  {
   "cell_type": "code",
   "execution_count": null,
   "metadata": {
    "collapsed": true
   },
   "outputs": [],
   "source": []
  }
 ],
 "metadata": {
  "anaconda-cloud": {},
  "kernelspec": {
   "display_name": "Python [default]",
   "language": "python",
   "name": "python2"
  },
  "language_info": {
   "codemirror_mode": {
    "name": "ipython",
    "version": 2
   },
   "file_extension": ".py",
   "mimetype": "text/x-python",
   "name": "python",
   "nbconvert_exporter": "python",
   "pygments_lexer": "ipython2",
   "version": "2.7.12"
  }
 },
 "nbformat": 4,
 "nbformat_minor": 1
}
