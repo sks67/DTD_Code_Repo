{
 "cells": [
  {
   "cell_type": "code",
   "execution_count": 2,
   "metadata": {
    "collapsed": false
   },
   "outputs": [
    {
     "name": "stdout",
     "output_type": "stream",
     "text": [
      "Populating the interactive namespace from numpy and matplotlib\n"
     ]
    }
   ],
   "source": [
    "%pylab inline\n",
    "import os\n",
    "DTDpath = os.getenv('DTD')"
   ]
  },
  {
   "cell_type": "code",
   "execution_count": 3,
   "metadata": {
    "collapsed": true
   },
   "outputs": [],
   "source": [
    "logAgeArr = np.asarray([6.8, 7.1, 7.4, 7.7, 8.0, 8.2, 8.4, 8.6, 8.8, 9.0, 9.2, 9.4, 9.6, 9.8, 10.0, 10.2])\n",
    "ageArr = 10.0**logAgeArr\n",
    "logAgeLimsArr = np.asarray([6.65,6.95,7.25,7.55,7.85,8.1,8.3,8.5,8.7,8.9,9.1,9.3,9.5,9.7,9.9,10.1,10.3])\n",
    "ageLimsArr = 10.0**logAgeLimsArr"
   ]
  },
  {
   "cell_type": "code",
   "execution_count": null,
   "metadata": {
    "collapsed": false
   },
   "outputs": [],
   "source": [
    "sfhFileName = DTDpath + '/MC_SFH_Maps/lmc_sfh.dat'\n",
    "outPathName = 'Output_SFH_Files/'\n",
    "print 'Reading SFH from file '+sfhFileName\n",
    "nCells = 0\n",
    "nAgeBins = 16\n",
    "cellNames = []\n",
    "cellCentersRA = []\n",
    "cellCentersDec = []\n",
    "sfhMap = []\n",
    "with open(sfhFileName, 'r') as f:\n",
    "    for i in range(17): f.readline()\n",
    "    while True:\n",
    "        line = f.readline() #Hyphens\n",
    "        if not line : \n",
    "            print 'End of file reached after cell ', nCells\n",
    "            break #Check EOF\n",
    "        \n",
    "        words = f.readline().split()\n",
    "        cellNames.append(words[1])  #Cell name    \n",
    "        #print 'Reading cell ' + cellNames[-1]\n",
    "        words = f.readline().split() #Cell center\n",
    "        cellCentersRA.append(float(words[1][0:2]) + float(words[2][0:2])/60.0)\n",
    "        cellCentersDec.append(float(words[3][0:3]) - float(words[4][0:2])/60.0)\n",
    "        line = f.readline() #Hyphens\n",
    "        sfhCell = np.zeros([3,nAgeBins])\n",
    "        for bin in range(nAgeBins) :\n",
    "            floats = [float(x) for x in f.readline().split()]\n",
    "            floatArr = np.asarray(floats)\n",
    "            sfhCell[0,nAgeBins-1-bin] = floatArr[[1,4,7,10]].sum() #Best Fit\n",
    "            sfhCell[1,nAgeBins-1-bin] = floatArr[[2,5,8,11]].sum() #Lower limit\n",
    "            sfhCell[2,nAgeBins-1-bin] = floatArr[[3,6,9,12]].sum() #Upper limit\n",
    "            f.readline() #Blank line\n",
    "\n",
    "        sfhMap.append(sfhCell)\n",
    "        nCells += 1\n",
    "        \n",
    "sfhMapArr = np.asarray(sfhMap)\n",
    "print sfhMapArr.shape\n",
    "\n",
    "logAgeArr = np.asarray([6.8, 7.1, 7.4, 7.7, 8.0, 8.2, 8.4, 8.6, 8.8, 9.0, 9.2, 9.4, 9.6, 9.8, 10.0, 10.2])\n",
    "ageArr = 10.0**logAgeArr\n",
    "logAgeLimsArr = np.asarray([6.65,6.95,7.25,7.55,7.85,8.1,8.3,8.5,8.7,8.9,9.1,9.3,9.5,9.7,9.9,10.1,10.3])\n",
    "ageLimsArr = 10.0**logAgeLimsArr\n",
    "ageIntervalsArr = ageLimsArr[1:]-ageLimsArr[:-1]\n",
    "\n",
    "binningSchemeNames = ['Coarse','Massive','Medium','MediumB','MediumC','Subfine','Fine','CrazyCeph','Unbinned']\n",
    "nSchemes = len(binningSchemeNames)\n",
    "#binsList = [[0, 1, 2], [3, 4, 5, 6, 7, 8], [9, 10], [11, 12], [13], [14, 15]]                                                                                \n",
    "binningSchemes = np.arange(16)\n",
    "\n",
    "nBinsScheme = len(binningSchemes)\n",
    "sfhMapBinned = np.zeros((nBinsScheme, nCells))\n",
    "for i, bins in enumerate(binningSchemes):\n",
    "    sfhMapBinned[i, :]= np.dot(sfhMapArr[:,0,bins]/1.0e6, ageIntervalsArr[bins])\n",
    "    \n",
    "print 'Total LMC stellar mass (x 10^9 M_sun) = ', np.sum(sfhMapBinned)/1.0e9"
   ]
  },
  {
   "cell_type": "code",
   "execution_count": 14,
   "metadata": {
    "collapsed": false
   },
   "outputs": [
    {
     "name": "stdout",
     "output_type": "stream",
     "text": [
      "3 3\n",
      "3 2\n",
      "3 1\n",
      "3 0\n",
      "2 3\n",
      "2 2\n",
      "2 1\n",
      "2 0\n",
      "1 3\n",
      "1 2\n",
      "1 1\n",
      "1 0\n",
      "0 3\n",
      "0 2\n",
      "0 1\n",
      "0 0\n"
     ]
    }
   ],
   "source": [
    "nAgeBins = 16\n",
    "for ageBin in range(nAgeBins) :\n",
    "    row =   int(np.floor(ageBin/4))\n",
    "    column = ageBin-4*row\n",
    "    print 3-row, 3-column"
   ]
  },
  {
   "cell_type": "code",
   "execution_count": null,
   "metadata": {
    "collapsed": false
   },
   "outputs": [],
   "source": [
    "a[-1]"
   ]
  },
  {
   "cell_type": "code",
   "execution_count": null,
   "metadata": {
    "collapsed": true
   },
   "outputs": [],
   "source": []
  }
 ],
 "metadata": {
  "anaconda-cloud": {},
  "kernelspec": {
   "display_name": "Python [default]",
   "language": "python",
   "name": "python2"
  },
  "language_info": {
   "codemirror_mode": {
    "name": "ipython",
    "version": 2
   },
   "file_extension": ".py",
   "mimetype": "text/x-python",
   "name": "python",
   "nbconvert_exporter": "python",
   "pygments_lexer": "ipython2",
   "version": "2.7.12"
  }
 },
 "nbformat": 4,
 "nbformat_minor": 1
}
